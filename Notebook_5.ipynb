{
  "nbformat": 4,
  "nbformat_minor": 0,
  "metadata": {
    "kernelspec": {
      "display_name": "Python 3",
      "language": "python",
      "name": "python3"
    },
    "language_info": {
      "codemirror_mode": {
        "name": "ipython",
        "version": 3
      },
      "file_extension": ".py",
      "mimetype": "text/x-python",
      "name": "python",
      "nbconvert_exporter": "python",
      "pygments_lexer": "ipython3",
      "version": "3.7.3"
    },
    "colab": {
      "provenance": []
    }
  },
  "cells": [
    {
      "cell_type": "markdown",
      "metadata": {
        "id": "Gp2WddtV9IwG"
      },
      "source": [
        "# Programa Ingenias+ Data Science"
      ]
    },
    {
      "cell_type": "markdown",
      "metadata": {
        "id": "H4M1yVbf9IwH"
      },
      "source": [
        "Como dijimos en clases anteriores, Python tiene implementadas muchas librerias para poder trabajar con datos. En la clase de hoy trabajaremos con una de ellas: `Numpy`."
      ]
    },
    {
      "cell_type": "markdown",
      "metadata": {
        "id": "GdTT8WeL9IwI"
      },
      "source": [
        "Antes de comenzar, vamos a hablar un poco de esta libreria o modulo.\n",
        "\n",
        "**Numpy** es una librería optimizada para realizar cálculos numéricos con vectores y matrices. A diferencia de otros lenguajes de programación, Python no posee en su estructura central la figura de matrices. Eso quiere decir que para poder trabajar con esta estructura de datos deberiamos trabajar con listas de listas. NumPy introduce el concepto de arrays o matrices."
      ]
    },
    {
      "cell_type": "markdown",
      "metadata": {
        "id": "qWkq3EHK9IwK"
      },
      "source": [
        "Al ser de código abierto, `numpy` posee una documentación muy amplia que es **SIEMPRE RECOMENDABLE** consultar."
      ]
    },
    {
      "cell_type": "markdown",
      "metadata": {
        "id": "nxe3KLUO9IwL"
      },
      "source": [
        "- [Documentacion NumPy](https://devdocs.io/numpy/)"
      ]
    },
    {
      "cell_type": "markdown",
      "metadata": {
        "id": "l1Ay3nSs9IwN"
      },
      "source": [
        "## Clase 4: Introduccion a NumPy"
      ]
    },
    {
      "cell_type": "markdown",
      "metadata": {
        "id": "X03mviQS9IyL"
      },
      "source": [
        "# Ejercicios\n",
        "\n",
        "1. Crear un arreglo de ceros de longitud 12\n",
        "2. Crear un arreglo de longitud 10 con ceros en todas sus posiciones y un 10 en la posición número 5\n",
        "3. Crear un arreglo que tenga los números del 10 al 49\n",
        "4. Crear una arreglo 2d de shape (3, 3) que tenga los números del 0 al 8\n",
        "5. Crear un arreglo de números aleatorios de longitud 100 y obtener su media y varianza\n",
        "6. Calcular la media de un arreglo usando np.sum\n",
        "7. Calcular la varianza de un arreglo usando np.sum y np.mean\n",
        "8. Crear un array de números aleatorios usando np.random.randn.\n"
      ]
    },
    {
      "cell_type": "code",
      "metadata": {
        "id": "G0NMKT609IyM"
      },
      "source": [
        "import numpy as np"
      ],
      "execution_count": 1,
      "outputs": []
    },
    {
      "cell_type": "markdown",
      "source": [
        "1) Crear un arreglo de ceros de longitud 12"
      ],
      "metadata": {
        "id": "ULYzC8VhK1YF"
      }
    },
    {
      "cell_type": "code",
      "source": [
        "arreglo_ceros = np.zeros(12)\n",
        "print(arreglo_ceros)"
      ],
      "metadata": {
        "id": "gq9PoEQDKVdp",
        "outputId": "19a4b748-70cc-4d25-bf4e-4249203d61b4",
        "colab": {
          "base_uri": "https://localhost:8080/"
        }
      },
      "execution_count": 2,
      "outputs": [
        {
          "output_type": "stream",
          "name": "stdout",
          "text": [
            "[0. 0. 0. 0. 0. 0. 0. 0. 0. 0. 0. 0.]\n"
          ]
        }
      ]
    },
    {
      "cell_type": "markdown",
      "source": [
        "2) Crear un arreglo de longitud 10 con ceros en todas sus posiciones y un 10 en la posición número 5"
      ],
      "metadata": {
        "id": "7cPOoZU-K4k1"
      }
    },
    {
      "cell_type": "code",
      "source": [
        "arreglo = np.zeros(10)\n",
        "arreglo[4] = 10  # La posición número 5 tiene índice 4\n",
        "print(arreglo)"
      ],
      "metadata": {
        "id": "s4f6rDuLKa4J",
        "outputId": "73177c85-46e0-4071-f107-e8647de48dcc",
        "colab": {
          "base_uri": "https://localhost:8080/"
        }
      },
      "execution_count": 3,
      "outputs": [
        {
          "output_type": "stream",
          "name": "stdout",
          "text": [
            "[ 0.  0.  0.  0. 10.  0.  0.  0.  0.  0.]\n"
          ]
        }
      ]
    },
    {
      "cell_type": "markdown",
      "source": [
        "3) Crear un arreglo que tenga los números del 10 al 49"
      ],
      "metadata": {
        "id": "ltHHo4pnK_mc"
      }
    },
    {
      "cell_type": "code",
      "source": [
        "arreglo = np.arange(10, 50) #numpy.arange() de NumPy es una función que permite generar una secuencia de números especificando un valor inicial, un valor final y un paso (opcional)\n",
        "print(arreglo)"
      ],
      "metadata": {
        "id": "GrMNvuD_LEPW",
        "outputId": "d09a7c10-6c50-4362-b448-aa2c427b7088",
        "colab": {
          "base_uri": "https://localhost:8080/"
        }
      },
      "execution_count": 4,
      "outputs": [
        {
          "output_type": "stream",
          "name": "stdout",
          "text": [
            "[10 11 12 13 14 15 16 17 18 19 20 21 22 23 24 25 26 27 28 29 30 31 32 33\n",
            " 34 35 36 37 38 39 40 41 42 43 44 45 46 47 48 49]\n"
          ]
        }
      ]
    },
    {
      "cell_type": "markdown",
      "source": [
        "4) Crear una arreglo 2d de shape (3, 3) que tenga los números del 0 al 8"
      ],
      "metadata": {
        "id": "cTJDdG8nLhyO"
      }
    },
    {
      "cell_type": "code",
      "source": [
        "# Primero creo un arreglo 1D con los números del 0 al 8\n",
        "arreglo_1d = np.arange(9)\n",
        "# Luego usando Reshape para convertirlo en un arreglo 2D de forma (3, 3)\n",
        "arreglo_2d = arreglo_1d.reshape((3, 3))\n",
        "\n",
        "print(arreglo_2d)"
      ],
      "metadata": {
        "id": "PgjgRKcILm14",
        "outputId": "e614ca22-16c9-4d7d-fef7-796e6c729d21",
        "colab": {
          "base_uri": "https://localhost:8080/"
        }
      },
      "execution_count": 5,
      "outputs": [
        {
          "output_type": "stream",
          "name": "stdout",
          "text": [
            "[[0 1 2]\n",
            " [3 4 5]\n",
            " [6 7 8]]\n"
          ]
        }
      ]
    },
    {
      "cell_type": "markdown",
      "source": [
        "5) Crear un arreglo de números aleatorios de longitud 100 y obtener su media y varianza"
      ],
      "metadata": {
        "id": "Doj4qBqHL-y3"
      }
    },
    {
      "cell_type": "code",
      "source": [
        "# Creo un arreglo de 100 números aleatorios entre 0 y 1\n",
        "arreglo_aleatorio = np.random.rand(100)\n",
        "\n",
        "# Calculo la media y la varianza del arreglo\n",
        "media = np.mean(arreglo_aleatorio)\n",
        "varianza = np.var(arreglo_aleatorio)\n",
        "\n",
        "print(\"Arreglo de números aleatorios:\")\n",
        "print(arreglo_aleatorio)\n",
        "print(\"\\nMedia:\", media)\n",
        "print(\"Varianza:\", varianza)"
      ],
      "metadata": {
        "id": "m_VzKtcxMBLv",
        "outputId": "47ccd355-d894-493c-af64-296021f064f8",
        "colab": {
          "base_uri": "https://localhost:8080/"
        }
      },
      "execution_count": 9,
      "outputs": [
        {
          "output_type": "stream",
          "name": "stdout",
          "text": [
            "Arreglo de números aleatorios:\n",
            "[0.6292802  0.31500123 0.76109625 0.87095264 0.26244046 0.02554053\n",
            " 0.26863013 0.15824326 0.61950153 0.95175945 0.5383425  0.00482191\n",
            " 0.01143679 0.09397638 0.0012918  0.98227157 0.04362428 0.07475206\n",
            " 0.63924034 0.43448052 0.14049842 0.62565283 0.61390977 0.11222218\n",
            " 0.73294531 0.17726655 0.11637668 0.654108   0.15299066 0.40947864\n",
            " 0.74721764 0.02349755 0.66096831 0.93784809 0.20621973 0.87349555\n",
            " 0.31254452 0.46840846 0.24641551 0.57997104 0.37296366 0.47162281\n",
            " 0.77741674 0.73534989 0.53522696 0.46142353 0.75385439 0.32966667\n",
            " 0.3414861  0.59628702 0.28800553 0.48798282 0.79370973 0.03246468\n",
            " 0.43416442 0.25670749 0.95342015 0.32664184 0.87344419 0.89501275\n",
            " 0.66701434 0.63560717 0.13291374 0.7128617  0.4384157  0.4037347\n",
            " 0.66829238 0.90369728 0.16436759 0.4131964  0.43611817 0.94373231\n",
            " 0.73792653 0.57161372 0.79582379 0.70591238 0.95207125 0.4484811\n",
            " 0.74317074 0.25442209 0.9247134  0.54815913 0.47374116 0.21940766\n",
            " 0.52595369 0.4295745  0.6254039  0.41451925 0.87671513 0.76697168\n",
            " 0.18634143 0.66299856 0.57272587 0.63828109 0.60397253 0.90335678\n",
            " 0.45144507 0.99762048 0.56654236 0.93034482]\n",
            "\n",
            "Media: 0.5124373224385904\n",
            "Varianza: 0.07821469230696336\n"
          ]
        }
      ]
    },
    {
      "cell_type": "markdown",
      "source": [
        "6) Calcular la media de un arreglo usando np.sum"
      ],
      "metadata": {
        "id": "53MDtEEgMja2"
      }
    },
    {
      "cell_type": "code",
      "source": [
        "# Creo un arreglo\n",
        "arreglo = np.array([1, 2, 3, 4, 5])\n",
        "# Calculo la media utilizando np.sum y len\n",
        "media = np.sum(arreglo) / len(arreglo) #np.sum(arreglo)suma todos los elementos del arreglo, y len(arreglo) devuelve la cantidad de elementos en el arreglo\n",
        "\n",
        "print(\"Arreglo:\", arreglo)\n",
        "print(\"Media:\", media)"
      ],
      "metadata": {
        "id": "AGSazBpRMqYv",
        "outputId": "3c927622-7087-4c4e-8d43-d3d9145d7e58",
        "colab": {
          "base_uri": "https://localhost:8080/"
        }
      },
      "execution_count": 11,
      "outputs": [
        {
          "output_type": "stream",
          "name": "stdout",
          "text": [
            "Arreglo: [1 2 3 4 5]\n",
            "Media: 3.0\n"
          ]
        }
      ]
    },
    {
      "cell_type": "markdown",
      "source": [
        "7) Calcular la varianza de un arreglo usando np.sum y np.mean"
      ],
      "metadata": {
        "id": "lQ8x8G1JPNC-"
      }
    },
    {
      "cell_type": "code",
      "source": [
        "# Calculo las diferencias entre cada elemento y la media\n",
        "diferencias = arreglo - media\n",
        "# Calcular el cuadrado de las diferencias\n",
        "cuadrados_diferencias = diferencias**2\n",
        "# Calcular la varianza utilizando np.sum y np.mean\n",
        "varianza = np.sum(cuadrados_diferencias) / len(arreglo)\n",
        "print(\"Arreglo:\", arreglo)\n",
        "print(\"Varianza:\", varianza)"
      ],
      "metadata": {
        "id": "fm-e3WSUPSX-",
        "outputId": "cb63b8a5-eb5d-43d4-dc56-d9d7cd397eac",
        "colab": {
          "base_uri": "https://localhost:8080/"
        }
      },
      "execution_count": 12,
      "outputs": [
        {
          "output_type": "stream",
          "name": "stdout",
          "text": [
            "Arreglo: [1 2 3 4 5]\n",
            "Varianza: 2.0\n"
          ]
        }
      ]
    },
    {
      "cell_type": "markdown",
      "source": [
        "8) Crear un array de números aleatorios usando np.random.randn."
      ],
      "metadata": {
        "id": "VlIb8lpdQHnF"
      }
    },
    {
      "cell_type": "code",
      "source": [
        "arreglo_aleatorio = np.random.randn(10)\n",
        "print(arreglo_aleatorio)"
      ],
      "metadata": {
        "id": "ldbHnUg2QJed",
        "outputId": "8c30caaa-eeb7-43e0-a19f-aeb1aa075168",
        "colab": {
          "base_uri": "https://localhost:8080/"
        }
      },
      "execution_count": 13,
      "outputs": [
        {
          "output_type": "stream",
          "name": "stdout",
          "text": [
            "[-1.57584987  1.12382573  1.53036932 -2.60591342  1.41443813 -1.46166754\n",
            " -1.59296827 -0.43640587  0.08030784 -2.00808925]\n"
          ]
        }
      ]
    }
  ]
}